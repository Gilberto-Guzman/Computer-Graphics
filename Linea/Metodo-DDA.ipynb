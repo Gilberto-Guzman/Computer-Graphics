{
 "cells": [
  {
   "cell_type": "code",
   "execution_count": 1,
   "metadata": {},
   "outputs": [],
   "source": [
    "# Asignación de variables\n",
    "\n",
    "X1 = 20\n",
    "X2 = 60\n",
    "\n",
    "Y1 = 20\n",
    "Y2 = 50"
   ]
  },
  {
   "cell_type": "code",
   "execution_count": 2,
   "metadata": {},
   "outputs": [
    {
     "name": "stdout",
     "output_type": "stream",
     "text": [
      "La pendiente de la recta es: 0.75\n"
     ]
    }
   ],
   "source": [
    "# Calculo de la pendiente de una recta\n",
    "\n",
    "M = (Y2 - Y1) / (X2 - X1)\n",
    "\n",
    "print(f\"La pendiente de la recta es: {M}\")"
   ]
  },
  {
   "cell_type": "code",
   "execution_count": 3,
   "metadata": {},
   "outputs": [
    {
     "name": "stdout",
     "output_type": "stream",
     "text": [
      "La línea sube de izquierda a derecha.\n"
     ]
    }
   ],
   "source": [
    "# Calculo de la pendiente de una recta\n",
    "\n",
    "if M > 0:\n",
    "    print(\"La línea sube de izquierda a derecha.\")\n",
    "elif M < 0:\n",
    "    print(\"La línea baja de izquierda a derecha.\")\n",
    "elif M == 0:\n",
    "    print(\"La línea es horizontal.\")\n",
    "else:\n",
    "    print(\"La línea es vertical.\")"
   ]
  },
  {
   "cell_type": "code",
   "execution_count": 4,
   "metadata": {},
   "outputs": [],
   "source": [
    "# Algoritmo DDA\n",
    "\n",
    "from matplotlib import pyplot as plt \n",
    "\n",
    "DX = abs(X1 - X2) \n",
    "DY = abs(Y1 - Y2) \n",
    "\n",
    "Numero_De_Pasos = max(DX, DY) \n",
    "\n",
    "Incremento_En_X = DX/Numero_De_Pasos \n",
    "Incremento_En_Y = DY/Numero_De_Pasos \n",
    "\n",
    "X = float(X1) \n",
    "Y = float(Y1) \n",
    "\n",
    "Coordenadas_En_X = [] \n",
    "Coordenadas_En_Y = [] \n",
    "\n",
    "for i in range(Numero_De_Pasos): \n",
    "\n",
    "\tCoordenadas_En_X.append(X) \n",
    "\tCoordenadas_En_Y.append(Y) \n",
    "\n",
    "\tX = X + Incremento_En_X \n",
    "\tY = Y + Incremento_En_Y "
   ]
  },
  {
   "cell_type": "code",
   "execution_count": 5,
   "metadata": {},
   "outputs": [
    {
     "name": "stdout",
     "output_type": "stream",
     "text": [
      "Coordenadas:\n",
      "X\tY\n",
      "20.0\t20.0\n",
      "21.0\t20.75\n",
      "22.0\t21.5\n",
      "23.0\t22.25\n",
      "24.0\t23.0\n",
      "25.0\t23.75\n",
      "26.0\t24.5\n",
      "27.0\t25.25\n",
      "28.0\t26.0\n",
      "29.0\t26.75\n",
      "30.0\t27.5\n",
      "31.0\t28.25\n",
      "32.0\t29.0\n",
      "33.0\t29.75\n",
      "34.0\t30.5\n",
      "35.0\t31.25\n",
      "36.0\t32.0\n",
      "37.0\t32.75\n",
      "38.0\t33.5\n",
      "39.0\t34.25\n",
      "40.0\t35.0\n",
      "41.0\t35.75\n",
      "42.0\t36.5\n",
      "43.0\t37.25\n",
      "44.0\t38.0\n",
      "45.0\t38.75\n",
      "46.0\t39.5\n",
      "47.0\t40.25\n",
      "48.0\t41.0\n",
      "49.0\t41.75\n",
      "50.0\t42.5\n",
      "51.0\t43.25\n",
      "52.0\t44.0\n",
      "53.0\t44.75\n",
      "54.0\t45.5\n",
      "55.0\t46.25\n",
      "56.0\t47.0\n",
      "57.0\t47.75\n",
      "58.0\t48.5\n",
      "59.0\t49.25\n"
     ]
    }
   ],
   "source": [
    "# Tabla de valores obtenidos\n",
    "\n",
    "print(\"Coordenadas:\")\n",
    "print(\"X\\tY\")\n",
    "for i in range(Numero_De_Pasos):\n",
    "    print(f\"{Coordenadas_En_X[i]}\\t{Coordenadas_En_Y[i]}\")"
   ]
  },
  {
   "cell_type": "code",
   "execution_count": 6,
   "metadata": {},
   "outputs": [
    {
     "data": {
      "image/png": "[encoded data removed]",
      "text/plain": [
       "<Figure size 640x480 with 1 Axes>"
      ]
     },
     "metadata": {},
     "output_type": "display_data"
    }
   ],
   "source": [
    "# Gráfica resultante\n",
    "\n",
    "plt.plot(Coordenadas_En_X, Coordenadas_En_Y, color=\"blue\", marker=\"o\", \n",
    "\t\tmarkersize=5, markerfacecolor=\"red\") \n",
    "plt.show() \n"
   ]
  }
 ],
 "metadata": {
  "kernelspec": {
   "display_name": ".venv",
   "language": "python",
   "name": "python3"
  },
  "language_info": {
   "codemirror_mode": {
    "name": "ipython",
    "version": 3
   },
   "file_extension": ".py",
   "mimetype": "text/x-python",
   "name": "python",
   "nbconvert_exporter": "python",
   "pygments_lexer": "ipython3",
   "version": "3.12.1"
  }
 },
 "nbformat": 4,
 "nbformat_minor": 2
}
